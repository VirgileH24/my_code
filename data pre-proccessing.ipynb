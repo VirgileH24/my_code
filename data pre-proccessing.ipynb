{
 "cells": [
  {
   "cell_type": "markdown",
   "metadata": {},
   "source": [
    "# Code pour data processing"
   ]
  },
  {
   "cell_type": "markdown",
   "metadata": {},
   "source": [
    "## Missing values"
   ]
  },
  {
   "cell_type": "markdown",
   "metadata": {},
   "source": [
    "Cette fonction donne les poucentage de NA dans chaque feature d'un data frame"
   ]
  },
  {
   "cell_type": "code",
   "execution_count": null,
   "metadata": {},
   "outputs": [],
   "source": [
    "def missing_values_vizu(df):\n",
    "    missing_by_col=df.isnull().sum()\n",
    "    col_with_na=missing_by_col[missing_by_col>0]\n",
    "    percent_missing=(col_with_na/len(Xall))*100\n",
    "    percent_missing=percent_missing.sort_values(ascending=False)\n",
    "    \n",
    "    plt.figure(1, figsize=(15, 12))\n",
    "    sns.barplot(x=percent_missing.index,y=percent_missing)\n",
    "\n",
    "    plt.xticks(rotation='90')\n",
    "    plt.xlabel('Features', fontsize=15)\n",
    "    plt.ylabel('Percent of missing values', fontsize=15)\n",
    "    plt.title('Percent missing data by feature', fontsize=15)\n"
   ]
  },
  {
   "cell_type": "markdown",
   "metadata": {},
   "source": [
    "Cette fonction replace les valeur manquantes par le mode et la moyenne d'un data frame"
   ]
  },
  {
   "cell_type": "code",
   "execution_count": null,
   "metadata": {},
   "outputs": [],
   "source": [
    "def imputeNA(df):\n",
    "    #columns with missigns values\n",
    "    cols_with_missings=[col for col in df.columns if df[col].isnull().any()]\n",
    "    #numericals and categorials columns with missings values\n",
    "    cols_num_with_missings=[col for col in df.loc[:,cols_with_missings].columns\n",
    "                        if df[col].dtypes=='float64']\n",
    "    cols_cat_with_missings=[col for col in df.loc[:,cols_with_missings].columns\n",
    "                        if df[col].dtypes=='object']\n",
    "    \n",
    "    cat_subset=df.loc[:,cols_cat_with_missings]\n",
    "    num_subset=df.loc[:,cols_num_with_missings]\n",
    "    \n",
    "    #mode imputationfor categorial columns\n",
    "    for cat_col in cat_subset.columns:\n",
    "        df[cat_col].fillna(df[cat_col].mode()[0],inplace=True)\n",
    "        \n",
    "    #mean imputaion in the numerical columns\n",
    "    for col in num_subset.columns:\n",
    "        df[col].fillna(df[col].mean(),inplace=True)\n",
    "        \n",
    "    return df"
   ]
  }
 ],
 "metadata": {
  "kernelspec": {
   "display_name": "Python 3",
   "language": "python",
   "name": "python3"
  },
  "language_info": {
   "codemirror_mode": {
    "name": "ipython",
    "version": 3
   },
   "file_extension": ".py",
   "mimetype": "text/x-python",
   "name": "python",
   "nbconvert_exporter": "python",
   "pygments_lexer": "ipython3",
   "version": "3.8.3"
  }
 },
 "nbformat": 4,
 "nbformat_minor": 4
}
