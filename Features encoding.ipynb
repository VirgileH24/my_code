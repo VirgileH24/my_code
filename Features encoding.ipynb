{
 "cells": [
  {
   "cell_type": "markdown",
   "metadata": {},
   "source": [
    "# Features Encoding"
   ]
  },
  {
   "cell_type": "markdown",
   "metadata": {},
   "source": [
    "Cette fonction discretise des colonnes par quantiles donnée"
   ]
  },
  {
   "cell_type": "code",
   "execution_count": null,
   "metadata": {},
   "outputs": [],
   "source": [
    "# label = true or False\n",
    "\n",
    "def Features_discretization(df,cols,n_quantiles,labels):  \n",
    "    df_copy=df.copy()\n",
    "    for col in cols:\n",
    "        df_copy=df_copy.drop(col,axis=1)\n",
    "        df_copy[col]=pd.qcut(x=df[col],q=n_quantiles,duplicates='drop',labels=labels)\n",
    "        \n",
    "    return df_copy "
   ]
  },
  {
   "cell_type": "markdown",
   "metadata": {},
   "source": [
    "cette fonction one hot encod des features d'un data frame"
   ]
  },
  {
   "cell_type": "code",
   "execution_count": null,
   "metadata": {},
   "outputs": [],
   "source": [
    "def OneHotEncod(df,cols):\n",
    "    for col in cols:\n",
    "        dummy=pd.get_dummies(df[col],prefix=col) # dataFrame of dummies for each modality of the variable\n",
    "        df=df.drop(col,axis=1) #drop the former variable\n",
    "        df=pd.concat([df,dummy],axis=1) #put the dummies in the dataFrame\n",
    "    return df"
   ]
  },
  {
   "cell_type": "markdown",
   "metadata": {},
   "source": [
    "cette fonction label encode des features d'un data frame"
   ]
  },
  {
   "cell_type": "code",
   "execution_count": null,
   "metadata": {},
   "outputs": [],
   "source": [
    "from sklearn.preprocessing import LabelEncoder\n",
    "\n",
    "def LabelEncoding(df,cat_features):\n",
    "    df_copy=df.copy()\n",
    "\n",
    "    encoder=LabelEncoder()\n",
    "    for col in cat_features:\n",
    "        df_copy[col] = encoder.fit_transform(df[col])\n",
    "        \n",
    "    return df_copy"
   ]
  }
 ],
 "metadata": {
  "kernelspec": {
   "display_name": "Python 3",
   "language": "python",
   "name": "python3"
  },
  "language_info": {
   "codemirror_mode": {
    "name": "ipython",
    "version": 3
   },
   "file_extension": ".py",
   "mimetype": "text/x-python",
   "name": "python",
   "nbconvert_exporter": "python",
   "pygments_lexer": "ipython3",
   "version": "3.8.3"
  }
 },
 "nbformat": 4,
 "nbformat_minor": 4
}
