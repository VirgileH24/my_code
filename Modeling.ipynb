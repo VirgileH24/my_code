{
 "cells": [
  {
   "cell_type": "markdown",
   "metadata": {},
   "source": [
    "# Modeling"
   ]
  },
  {
   "cell_type": "markdown",
   "metadata": {},
   "source": [
    "cette fonction prend en entré un list de model ainsi que le data frame et sort la list des scores de precision (classification)"
   ]
  },
  {
   "cell_type": "code",
   "execution_count": null,
   "metadata": {},
   "outputs": [],
   "source": [
    "def modelAccScore(df,target,models_list):\n",
    "    \n",
    "    # spilt the dataframe in a train and a validation dataframe\n",
    "    X_train, X_valid, y_train, y_valid = train_test_split(df, target, train_size=0.8, test_size=0.2,\n",
    "                                                      random_state=0)\n",
    "    score_list=[]\n",
    "    label=[]\n",
    "    for model in models_list:\n",
    "        model.fit(X_train,y_train)\n",
    "        predictions=model.predict(X_valid)\n",
    "        score=accuracy_score(predictions,y_valid)\n",
    "        score_list.append(score)\n",
    "    return score_list"
   ]
  },
  {
   "cell_type": "markdown",
   "metadata": {},
   "source": [
    "regression"
   ]
  },
  {
   "cell_type": "code",
   "execution_count": null,
   "metadata": {},
   "outputs": [],
   "source": [
    "def modelScore(df,target,models_list):\n",
    "    \n",
    "    # spilt the dataframe in a train and a validation dataframe\n",
    "    X_train, X_valid, y_train, y_valid = train_test_split(df, target, train_size=0.8, test_size=0.2,\n",
    "                                                      random_state=0)\n",
    "    score_list=[]\n",
    "    label=[]\n",
    "    for model in models_list:\n",
    "        model.fit(X_train,y_train)\n",
    "        predictions=model.predict(X_valid)\n",
    "        score=np.sqrt(mean_squared_error(predictions,y_valid))\n",
    "        score_list.append(score)\n",
    "    return score_list"
   ]
  },
  {
   "cell_type": "code",
   "execution_count": null,
   "metadata": {},
   "outputs": [],
   "source": [
    "from sklearn.model_selection import GridSearchCV\n",
    "\n",
    "def model_parameters_optimization(df,target,model,parameters_grid,score_type):\n",
    "    \n",
    "    grid_search=GridSearchCV(estimator=model,param_grid=parameters_grid,cv=10,n_jobs=-1,scoring=score_type)\n",
    "    grid_search.fit(df,target)\n",
    "    best_score=grid_search.best_score_\n",
    "    best_parameter=grid_search.best_params_\n",
    "    \n",
    "    return best_score,best_parameter"
   ]
  }
 ],
 "metadata": {
  "kernelspec": {
   "display_name": "Python 3",
   "language": "python",
   "name": "python3"
  },
  "language_info": {
   "codemirror_mode": {
    "name": "ipython",
    "version": 3
   },
   "file_extension": ".py",
   "mimetype": "text/x-python",
   "name": "python",
   "nbconvert_exporter": "python",
   "pygments_lexer": "ipython3",
   "version": "3.8.3"
  }
 },
 "nbformat": 4,
 "nbformat_minor": 4
}
